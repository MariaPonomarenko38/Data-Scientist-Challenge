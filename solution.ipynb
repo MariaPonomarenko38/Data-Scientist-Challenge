{
  "cells": [
    {
      "cell_type": "code",
      "source": [
        "!pip install imblearn\n",
        "!pip install scikit-learn\n",
        "!pip install graphviz"
      ],
      "metadata": {
        "colab": {
          "base_uri": "https://localhost:8080/"
        },
        "id": "SIT-tQdxofb2",
        "outputId": "d8fa47dd-d919-453f-fb84-91b8b889f254"
      },
      "execution_count": 143,
      "outputs": [
        {
          "output_type": "stream",
          "name": "stdout",
          "text": [
            "Looking in indexes: https://pypi.org/simple, https://us-python.pkg.dev/colab-wheels/public/simple/\n",
            "Requirement already satisfied: imblearn in /usr/local/lib/python3.8/dist-packages (0.0)\n",
            "Requirement already satisfied: imbalanced-learn in /usr/local/lib/python3.8/dist-packages (from imblearn) (0.8.1)\n",
            "Requirement already satisfied: scikit-learn>=0.24 in /usr/local/lib/python3.8/dist-packages (from imbalanced-learn->imblearn) (1.0.2)\n",
            "Requirement already satisfied: scipy>=0.19.1 in /usr/local/lib/python3.8/dist-packages (from imbalanced-learn->imblearn) (1.7.3)\n",
            "Requirement already satisfied: joblib>=0.11 in /usr/local/lib/python3.8/dist-packages (from imbalanced-learn->imblearn) (1.2.0)\n",
            "Requirement already satisfied: numpy>=1.13.3 in /usr/local/lib/python3.8/dist-packages (from imbalanced-learn->imblearn) (1.21.6)\n",
            "Requirement already satisfied: threadpoolctl>=2.0.0 in /usr/local/lib/python3.8/dist-packages (from scikit-learn>=0.24->imbalanced-learn->imblearn) (3.1.0)\n",
            "Looking in indexes: https://pypi.org/simple, https://us-python.pkg.dev/colab-wheels/public/simple/\n",
            "Requirement already satisfied: scikit-learn in /usr/local/lib/python3.8/dist-packages (1.0.2)\n",
            "Requirement already satisfied: numpy>=1.14.6 in /usr/local/lib/python3.8/dist-packages (from scikit-learn) (1.21.6)\n",
            "Requirement already satisfied: joblib>=0.11 in /usr/local/lib/python3.8/dist-packages (from scikit-learn) (1.2.0)\n",
            "Requirement already satisfied: threadpoolctl>=2.0.0 in /usr/local/lib/python3.8/dist-packages (from scikit-learn) (3.1.0)\n",
            "Requirement already satisfied: scipy>=1.1.0 in /usr/local/lib/python3.8/dist-packages (from scikit-learn) (1.7.3)\n"
          ]
        }
      ]
    },
    {
      "cell_type": "code",
      "execution_count": 1,
      "metadata": {
        "id": "eWKlmj8I1g4l"
      },
      "outputs": [],
      "source": [
        "import numpy as np\n",
        "import pandas as pd\n",
        "import matplotlib.pyplot as plt"
      ]
    },
    {
      "cell_type": "code",
      "execution_count": 2,
      "metadata": {
        "id": "VpiRKBRD1g4q",
        "outputId": "7c86310c-d21d-456a-fb0d-45e8a8863373",
        "colab": {
          "base_uri": "https://localhost:8080/"
        }
      },
      "outputs": [
        {
          "output_type": "stream",
          "name": "stderr",
          "text": [
            "/usr/local/lib/python3.8/dist-packages/IPython/core/interactiveshell.py:3326: DtypeWarning: Columns (1,6) have mixed types.Specify dtype option on import or set low_memory=False.\n",
            "  exec(code_obj, self.user_global_ns, self.user_ns)\n"
          ]
        }
      ],
      "source": [
        "data = pd.read_csv('dataset_SCL.csv')"
      ]
    },
    {
      "cell_type": "markdown",
      "metadata": {
        "id": "tRj300M-1g4s"
      },
      "source": [
        "<h3> Exploratory Data Analysis </h3>"
      ]
    },
    {
      "cell_type": "code",
      "execution_count": 3,
      "metadata": {
        "id": "--A3fLMl1g4u",
        "outputId": "f987942c-2189-4f29-f897-a064c9874059",
        "colab": {
          "base_uri": "https://localhost:8080/",
          "height": 354
        }
      },
      "outputs": [
        {
          "output_type": "execute_result",
          "data": {
            "text/plain": [
              "               Fecha-I Vlo-I Ori-I Des-I Emp-I              Fecha-O Vlo-O  \\\n",
              "0  2017-01-01 23:30:00   226  SCEL  KMIA   AAL  2017-01-01 23:33:00   226   \n",
              "1  2017-01-02 23:30:00   226  SCEL  KMIA   AAL  2017-01-02 23:39:00   226   \n",
              "2  2017-01-03 23:30:00   226  SCEL  KMIA   AAL  2017-01-03 23:39:00   226   \n",
              "3  2017-01-04 23:30:00   226  SCEL  KMIA   AAL  2017-01-04 23:33:00   226   \n",
              "4  2017-01-05 23:30:00   226  SCEL  KMIA   AAL  2017-01-05 23:28:00   226   \n",
              "\n",
              "  Ori-O Des-O Emp-O  DIA  MES   AÑO     DIANOM TIPOVUELO              OPERA  \\\n",
              "0  SCEL  KMIA   AAL    1    1  2017    Domingo         I  American Airlines   \n",
              "1  SCEL  KMIA   AAL    2    1  2017      Lunes         I  American Airlines   \n",
              "2  SCEL  KMIA   AAL    3    1  2017     Martes         I  American Airlines   \n",
              "3  SCEL  KMIA   AAL    4    1  2017  Miercoles         I  American Airlines   \n",
              "4  SCEL  KMIA   AAL    5    1  2017     Jueves         I  American Airlines   \n",
              "\n",
              "   SIGLAORI SIGLADES  \n",
              "0  Santiago    Miami  \n",
              "1  Santiago    Miami  \n",
              "2  Santiago    Miami  \n",
              "3  Santiago    Miami  \n",
              "4  Santiago    Miami  "
            ],
            "text/html": [
              "\n",
              "  <div id=\"df-0b94a8f2-997b-4064-8eb6-e5dd5f57634b\">\n",
              "    <div class=\"colab-df-container\">\n",
              "      <div>\n",
              "<style scoped>\n",
              "    .dataframe tbody tr th:only-of-type {\n",
              "        vertical-align: middle;\n",
              "    }\n",
              "\n",
              "    .dataframe tbody tr th {\n",
              "        vertical-align: top;\n",
              "    }\n",
              "\n",
              "    .dataframe thead th {\n",
              "        text-align: right;\n",
              "    }\n",
              "</style>\n",
              "<table border=\"1\" class=\"dataframe\">\n",
              "  <thead>\n",
              "    <tr style=\"text-align: right;\">\n",
              "      <th></th>\n",
              "      <th>Fecha-I</th>\n",
              "      <th>Vlo-I</th>\n",
              "      <th>Ori-I</th>\n",
              "      <th>Des-I</th>\n",
              "      <th>Emp-I</th>\n",
              "      <th>Fecha-O</th>\n",
              "      <th>Vlo-O</th>\n",
              "      <th>Ori-O</th>\n",
              "      <th>Des-O</th>\n",
              "      <th>Emp-O</th>\n",
              "      <th>DIA</th>\n",
              "      <th>MES</th>\n",
              "      <th>AÑO</th>\n",
              "      <th>DIANOM</th>\n",
              "      <th>TIPOVUELO</th>\n",
              "      <th>OPERA</th>\n",
              "      <th>SIGLAORI</th>\n",
              "      <th>SIGLADES</th>\n",
              "    </tr>\n",
              "  </thead>\n",
              "  <tbody>\n",
              "    <tr>\n",
              "      <th>0</th>\n",
              "      <td>2017-01-01 23:30:00</td>\n",
              "      <td>226</td>\n",
              "      <td>SCEL</td>\n",
              "      <td>KMIA</td>\n",
              "      <td>AAL</td>\n",
              "      <td>2017-01-01 23:33:00</td>\n",
              "      <td>226</td>\n",
              "      <td>SCEL</td>\n",
              "      <td>KMIA</td>\n",
              "      <td>AAL</td>\n",
              "      <td>1</td>\n",
              "      <td>1</td>\n",
              "      <td>2017</td>\n",
              "      <td>Domingo</td>\n",
              "      <td>I</td>\n",
              "      <td>American Airlines</td>\n",
              "      <td>Santiago</td>\n",
              "      <td>Miami</td>\n",
              "    </tr>\n",
              "    <tr>\n",
              "      <th>1</th>\n",
              "      <td>2017-01-02 23:30:00</td>\n",
              "      <td>226</td>\n",
              "      <td>SCEL</td>\n",
              "      <td>KMIA</td>\n",
              "      <td>AAL</td>\n",
              "      <td>2017-01-02 23:39:00</td>\n",
              "      <td>226</td>\n",
              "      <td>SCEL</td>\n",
              "      <td>KMIA</td>\n",
              "      <td>AAL</td>\n",
              "      <td>2</td>\n",
              "      <td>1</td>\n",
              "      <td>2017</td>\n",
              "      <td>Lunes</td>\n",
              "      <td>I</td>\n",
              "      <td>American Airlines</td>\n",
              "      <td>Santiago</td>\n",
              "      <td>Miami</td>\n",
              "    </tr>\n",
              "    <tr>\n",
              "      <th>2</th>\n",
              "      <td>2017-01-03 23:30:00</td>\n",
              "      <td>226</td>\n",
              "      <td>SCEL</td>\n",
              "      <td>KMIA</td>\n",
              "      <td>AAL</td>\n",
              "      <td>2017-01-03 23:39:00</td>\n",
              "      <td>226</td>\n",
              "      <td>SCEL</td>\n",
              "      <td>KMIA</td>\n",
              "      <td>AAL</td>\n",
              "      <td>3</td>\n",
              "      <td>1</td>\n",
              "      <td>2017</td>\n",
              "      <td>Martes</td>\n",
              "      <td>I</td>\n",
              "      <td>American Airlines</td>\n",
              "      <td>Santiago</td>\n",
              "      <td>Miami</td>\n",
              "    </tr>\n",
              "    <tr>\n",
              "      <th>3</th>\n",
              "      <td>2017-01-04 23:30:00</td>\n",
              "      <td>226</td>\n",
              "      <td>SCEL</td>\n",
              "      <td>KMIA</td>\n",
              "      <td>AAL</td>\n",
              "      <td>2017-01-04 23:33:00</td>\n",
              "      <td>226</td>\n",
              "      <td>SCEL</td>\n",
              "      <td>KMIA</td>\n",
              "      <td>AAL</td>\n",
              "      <td>4</td>\n",
              "      <td>1</td>\n",
              "      <td>2017</td>\n",
              "      <td>Miercoles</td>\n",
              "      <td>I</td>\n",
              "      <td>American Airlines</td>\n",
              "      <td>Santiago</td>\n",
              "      <td>Miami</td>\n",
              "    </tr>\n",
              "    <tr>\n",
              "      <th>4</th>\n",
              "      <td>2017-01-05 23:30:00</td>\n",
              "      <td>226</td>\n",
              "      <td>SCEL</td>\n",
              "      <td>KMIA</td>\n",
              "      <td>AAL</td>\n",
              "      <td>2017-01-05 23:28:00</td>\n",
              "      <td>226</td>\n",
              "      <td>SCEL</td>\n",
              "      <td>KMIA</td>\n",
              "      <td>AAL</td>\n",
              "      <td>5</td>\n",
              "      <td>1</td>\n",
              "      <td>2017</td>\n",
              "      <td>Jueves</td>\n",
              "      <td>I</td>\n",
              "      <td>American Airlines</td>\n",
              "      <td>Santiago</td>\n",
              "      <td>Miami</td>\n",
              "    </tr>\n",
              "  </tbody>\n",
              "</table>\n",
              "</div>\n",
              "      <button class=\"colab-df-convert\" onclick=\"convertToInteractive('df-0b94a8f2-997b-4064-8eb6-e5dd5f57634b')\"\n",
              "              title=\"Convert this dataframe to an interactive table.\"\n",
              "              style=\"display:none;\">\n",
              "        \n",
              "  <svg xmlns=\"http://www.w3.org/2000/svg\" height=\"24px\"viewBox=\"0 0 24 24\"\n",
              "       width=\"24px\">\n",
              "    <path d=\"M0 0h24v24H0V0z\" fill=\"none\"/>\n",
              "    <path d=\"M18.56 5.44l.94 2.06.94-2.06 2.06-.94-2.06-.94-.94-2.06-.94 2.06-2.06.94zm-11 1L8.5 8.5l.94-2.06 2.06-.94-2.06-.94L8.5 2.5l-.94 2.06-2.06.94zm10 10l.94 2.06.94-2.06 2.06-.94-2.06-.94-.94-2.06-.94 2.06-2.06.94z\"/><path d=\"M17.41 7.96l-1.37-1.37c-.4-.4-.92-.59-1.43-.59-.52 0-1.04.2-1.43.59L10.3 9.45l-7.72 7.72c-.78.78-.78 2.05 0 2.83L4 21.41c.39.39.9.59 1.41.59.51 0 1.02-.2 1.41-.59l7.78-7.78 2.81-2.81c.8-.78.8-2.07 0-2.86zM5.41 20L4 18.59l7.72-7.72 1.47 1.35L5.41 20z\"/>\n",
              "  </svg>\n",
              "      </button>\n",
              "      \n",
              "  <style>\n",
              "    .colab-df-container {\n",
              "      display:flex;\n",
              "      flex-wrap:wrap;\n",
              "      gap: 12px;\n",
              "    }\n",
              "\n",
              "    .colab-df-convert {\n",
              "      background-color: #E8F0FE;\n",
              "      border: none;\n",
              "      border-radius: 50%;\n",
              "      cursor: pointer;\n",
              "      display: none;\n",
              "      fill: #1967D2;\n",
              "      height: 32px;\n",
              "      padding: 0 0 0 0;\n",
              "      width: 32px;\n",
              "    }\n",
              "\n",
              "    .colab-df-convert:hover {\n",
              "      background-color: #E2EBFA;\n",
              "      box-shadow: 0px 1px 2px rgba(60, 64, 67, 0.3), 0px 1px 3px 1px rgba(60, 64, 67, 0.15);\n",
              "      fill: #174EA6;\n",
              "    }\n",
              "\n",
              "    [theme=dark] .colab-df-convert {\n",
              "      background-color: #3B4455;\n",
              "      fill: #D2E3FC;\n",
              "    }\n",
              "\n",
              "    [theme=dark] .colab-df-convert:hover {\n",
              "      background-color: #434B5C;\n",
              "      box-shadow: 0px 1px 3px 1px rgba(0, 0, 0, 0.15);\n",
              "      filter: drop-shadow(0px 1px 2px rgba(0, 0, 0, 0.3));\n",
              "      fill: #FFFFFF;\n",
              "    }\n",
              "  </style>\n",
              "\n",
              "      <script>\n",
              "        const buttonEl =\n",
              "          document.querySelector('#df-0b94a8f2-997b-4064-8eb6-e5dd5f57634b button.colab-df-convert');\n",
              "        buttonEl.style.display =\n",
              "          google.colab.kernel.accessAllowed ? 'block' : 'none';\n",
              "\n",
              "        async function convertToInteractive(key) {\n",
              "          const element = document.querySelector('#df-0b94a8f2-997b-4064-8eb6-e5dd5f57634b');\n",
              "          const dataTable =\n",
              "            await google.colab.kernel.invokeFunction('convertToInteractive',\n",
              "                                                     [key], {});\n",
              "          if (!dataTable) return;\n",
              "\n",
              "          const docLinkHtml = 'Like what you see? Visit the ' +\n",
              "            '<a target=\"_blank\" href=https://colab.research.google.com/notebooks/data_table.ipynb>data table notebook</a>'\n",
              "            + ' to learn more about interactive tables.';\n",
              "          element.innerHTML = '';\n",
              "          dataTable['output_type'] = 'display_data';\n",
              "          await google.colab.output.renderOutput(dataTable, element);\n",
              "          const docLink = document.createElement('div');\n",
              "          docLink.innerHTML = docLinkHtml;\n",
              "          element.appendChild(docLink);\n",
              "        }\n",
              "      </script>\n",
              "    </div>\n",
              "  </div>\n",
              "  "
            ]
          },
          "metadata": {},
          "execution_count": 3
        }
      ],
      "source": [
        "data.head()"
      ]
    },
    {
      "cell_type": "code",
      "execution_count": 4,
      "metadata": {
        "id": "xMVUeVvS1g4v",
        "outputId": "f2e735c1-ef20-4b3f-a940-fee358602e2b",
        "colab": {
          "base_uri": "https://localhost:8080/",
          "height": 336
        }
      },
      "outputs": [
        {
          "output_type": "display_data",
          "data": {
            "text/plain": [
              "<Figure size 720x360 with 2 Axes>"
            ],
            "image/png": "[encoded data removed]"
          },
          "metadata": {
            "needs_background": "light"
          }
        }
      ],
      "source": [
        "fig, axs = plt.subplots(1, 2, figsize=(10, 5))\n",
        "\n",
        "axs[0].bar(data['Emp-I'].value_counts().index.tolist()[:10], data['Emp-I'].value_counts().values.tolist()[:10]) \n",
        "axs[1].bar(data['Emp-O'].value_counts().index.tolist()[:10], data['Emp-O'].value_counts().values.tolist()[:10])\n",
        "\n",
        "axs[0].set_title(\"Distribution of airline codes for scheduled flights\")\n",
        "\n",
        "axs[1].set_title(\"Distribution of airline codes for operated flights\")\n",
        "\n",
        "\n",
        "plt.show()"
      ]
    },
    {
      "cell_type": "code",
      "execution_count": 5,
      "metadata": {
        "id": "2Jq_aaYD1g4w",
        "outputId": "688197a9-3534-49b9-c39d-0ec1d9bb615f",
        "colab": {
          "base_uri": "https://localhost:8080/"
        }
      },
      "outputs": [
        {
          "output_type": "execute_result",
          "data": {
            "text/plain": [
              "(14549, 18)"
            ]
          },
          "metadata": {},
          "execution_count": 5
        }
      ],
      "source": [
        "mask = (data['Emp-I']=='LAN') & ((data['Emp-O'] =='LXP'))\n",
        "filtered = data.loc[mask]\n",
        "filtered.shape"
      ]
    },
    {
      "cell_type": "code",
      "execution_count": 6,
      "metadata": {
        "id": "WAQUYBVs1g4x",
        "outputId": "d3da2e5c-8125-48fd-9de4-a5b06833f8a7",
        "colab": {
          "base_uri": "https://localhost:8080/"
        }
      },
      "outputs": [
        {
          "output_type": "execute_result",
          "data": {
            "text/plain": [
              "(0, 18)"
            ]
          },
          "metadata": {},
          "execution_count": 6
        }
      ],
      "source": [
        "mask = (data['Emp-I']=='LAN') & ((data['Emp-O'] =='SKU'))\n",
        "filtered = data.loc[mask]\n",
        "filtered.shape"
      ]
    },
    {
      "cell_type": "code",
      "execution_count": 7,
      "metadata": {
        "id": "eDSF3f8s1g4y",
        "outputId": "586d627d-7d2e-4930-f037-29c43ff5c7fc",
        "colab": {
          "base_uri": "https://localhost:8080/",
          "height": 336
        }
      },
      "outputs": [
        {
          "output_type": "display_data",
          "data": {
            "text/plain": [
              "<Figure size 720x360 with 2 Axes>"
            ],
            "image/png": "[encoded data removed]"
          },
          "metadata": {
            "needs_background": "light"
          }
        }
      ],
      "source": [
        "fig, axs = plt.subplots(1, 2, figsize=(10, 5))\n",
        "\n",
        "axs[0].bar(data['Ori-I'].value_counts().index.tolist()[:10], data['Emp-I'].value_counts().values.tolist()[:10]) \n",
        "axs[1].bar(data['Ori-O'].value_counts().index.tolist()[:10], data['Emp-O'].value_counts().values.tolist()[:10])\n",
        "\n",
        "axs[0].set_title(\"Distribution of origin city codes for scheduled flights\")\n",
        "\n",
        "axs[1].set_title(\"Distribution of origin city codes for operated flights\")\n",
        "\n",
        "\n",
        "plt.show()"
      ]
    },
    {
      "cell_type": "code",
      "execution_count": 8,
      "metadata": {
        "id": "UdTASLwi1g4z",
        "outputId": "eaa3ee68-4501-433f-f206-fd4a308dd5e8",
        "colab": {
          "base_uri": "https://localhost:8080/",
          "height": 352
        }
      },
      "outputs": [
        {
          "output_type": "display_data",
          "data": {
            "text/plain": [
              "<Figure size 720x360 with 2 Axes>"
            ],
            "image/png": "[encoded data removed]"
          },
          "metadata": {
            "needs_background": "light"
          }
        }
      ],
      "source": [
        "fig, axs = plt.subplots(1, 2, figsize=(10, 5))\n",
        "plt.subplots_adjust(wspace=0.7)\n",
        "axs[0].bar(data['Des-I'].value_counts().index.tolist()[:10], data['Emp-I'].value_counts().values.tolist()[:10]) \n",
        "axs[1].bar(data['Des-O'].value_counts().index.tolist()[:10], data['Emp-O'].value_counts().values.tolist()[:10])\n",
        "\n",
        "axs[0].set_title(\"Distribution of dest. city codes for scheduled flights\")\n",
        "\n",
        "axs[1].set_title(\"Distribution of dest. city codes for operated flights\")\n",
        "\n",
        "axs[0].set_xticklabels(data['Des-I'].value_counts().index.tolist()[:10], rotation=45)\n",
        "axs[1].set_xticklabels(data['Des-O'].value_counts().index.tolist()[:10], rotation=45)\n",
        "plt.show()"
      ]
    },
    {
      "cell_type": "code",
      "execution_count": 9,
      "metadata": {
        "id": "JOdU1zq21g40",
        "outputId": "28965666-aaad-4250-e014-0baea9faef73",
        "colab": {
          "base_uri": "https://localhost:8080/",
          "height": 398
        }
      },
      "outputs": [
        {
          "output_type": "execute_result",
          "data": {
            "text/plain": [
              "Text(0.5, 1.0, 'Top-10 airlines')"
            ]
          },
          "metadata": {},
          "execution_count": 9
        },
        {
          "output_type": "display_data",
          "data": {
            "text/plain": [
              "<Figure size 432x288 with 1 Axes>"
            ],
            "image/png": "[encoded data removed]"
          },
          "metadata": {
            "needs_background": "light"
          }
        }
      ],
      "source": [
        "data['OPERA'].value_counts()[:10].plot(kind='bar')\n",
        "plt.title('Top-10 airlines')"
      ]
    },
    {
      "cell_type": "code",
      "execution_count": 10,
      "metadata": {
        "id": "-zZH67WT1g40",
        "outputId": "d2b35ddb-9328-4198-b91d-c6feaf36af8f",
        "colab": {
          "base_uri": "https://localhost:8080/",
          "height": 296
        }
      },
      "outputs": [
        {
          "output_type": "execute_result",
          "data": {
            "text/plain": [
              "Text(0.5, 1.0, 'Distribution of types of flights')"
            ]
          },
          "metadata": {},
          "execution_count": 10
        },
        {
          "output_type": "display_data",
          "data": {
            "text/plain": [
              "<Figure size 432x288 with 1 Axes>"
            ],
            "image/png": "[encoded data removed]"
          },
          "metadata": {
            "needs_background": "light"
          }
        }
      ],
      "source": [
        "data['TIPOVUELO'].value_counts().plot(kind='bar')\n",
        "plt.title('Distribution of types of flights')"
      ]
    },
    {
      "cell_type": "code",
      "execution_count": 11,
      "metadata": {
        "id": "sMvUBtbi1g41",
        "outputId": "a7695d53-4d5d-4959-83c3-91ce73b355f6",
        "colab": {
          "base_uri": "https://localhost:8080/"
        }
      },
      "outputs": [
        {
          "output_type": "execute_result",
          "data": {
            "text/plain": [
              "Santiago    68206\n",
              "Name: SIGLAORI, dtype: int64"
            ]
          },
          "metadata": {},
          "execution_count": 11
        }
      ],
      "source": [
        "data['SIGLAORI'].value_counts()"
      ]
    },
    {
      "cell_type": "code",
      "execution_count": 12,
      "metadata": {
        "id": "uTVjC16s1g42",
        "outputId": "de8943a8-8816-4c0b-aaa9-c9d914564859",
        "colab": {
          "base_uri": "https://localhost:8080/",
          "height": 382
        }
      },
      "outputs": [
        {
          "output_type": "execute_result",
          "data": {
            "text/plain": [
              "Text(0.5, 1.0, 'Top-20 destinations')"
            ]
          },
          "metadata": {},
          "execution_count": 12
        },
        {
          "output_type": "display_data",
          "data": {
            "text/plain": [
              "<Figure size 432x288 with 1 Axes>"
            ],
            "image/png": "[encoded data removed]"
          },
          "metadata": {
            "needs_background": "light"
          }
        }
      ],
      "source": [
        "data['SIGLADES'].value_counts()[:20].plot(kind='bar')\n",
        "plt.title('Top-20 destinations')"
      ]
    },
    {
      "cell_type": "code",
      "execution_count": 13,
      "metadata": {
        "id": "RbBBTYTS1g43",
        "outputId": "8de52970-e802-499c-daaf-68392c06454f",
        "colab": {
          "base_uri": "https://localhost:8080/",
          "height": 301
        }
      },
      "outputs": [
        {
          "output_type": "execute_result",
          "data": {
            "text/plain": [
              "Text(0.5, 1.0, 'Distribution of months for flights')"
            ]
          },
          "metadata": {},
          "execution_count": 13
        },
        {
          "output_type": "display_data",
          "data": {
            "text/plain": [
              "<Figure size 432x288 with 1 Axes>"
            ],
            "image/png": "[encoded data removed]"
          },
          "metadata": {
            "needs_background": "light"
          }
        }
      ],
      "source": [
        "data['MES'].value_counts().plot(kind='bar')\n",
        "plt.title('Distribution of months for flights')"
      ]
    },
    {
      "cell_type": "code",
      "execution_count": 14,
      "metadata": {
        "id": "6tWtasU41g43",
        "outputId": "641f71ad-223f-44ce-d255-3831427c2cd9",
        "colab": {
          "base_uri": "https://localhost:8080/",
          "height": 301
        }
      },
      "outputs": [
        {
          "output_type": "execute_result",
          "data": {
            "text/plain": [
              "Text(0.5, 1.0, 'Distribution of days for flights')"
            ]
          },
          "metadata": {},
          "execution_count": 14
        },
        {
          "output_type": "display_data",
          "data": {
            "text/plain": [
              "<Figure size 432x288 with 1 Axes>"
            ],
            "image/png": "[encoded data removed]"
          },
          "metadata": {
            "needs_background": "light"
          }
        }
      ],
      "source": [
        "data['DIA'].value_counts().plot(kind='bar')\n",
        "plt.title('Distribution of days for flights')"
      ]
    },
    {
      "cell_type": "code",
      "execution_count": 15,
      "metadata": {
        "id": "U4vM66SX1g43"
      },
      "outputs": [],
      "source": [
        "data['Fecha-I'] = pd.to_datetime(data['Fecha-I'])\n",
        "data['Fecha-O'] = pd.to_datetime(data['Fecha-O'])"
      ]
    },
    {
      "cell_type": "code",
      "execution_count": 16,
      "metadata": {
        "id": "2GKoREey1g44"
      },
      "outputs": [],
      "source": [
        "def time_of_year(month):\n",
        "    if 3 <= month <= 5:\n",
        "        return 'Spring'\n",
        "    elif 6 <= month < 8:\n",
        "        return 'Summer'\n",
        "    elif 9 <= month < 11:\n",
        "        return 'Autumn'\n",
        "    else:\n",
        "        return 'Winter'"
      ]
    },
    {
      "cell_type": "code",
      "execution_count": 17,
      "metadata": {
        "id": "vtzV3yuA1g44",
        "outputId": "75714bb6-c133-4923-9035-8f207ac245f4",
        "colab": {
          "base_uri": "https://localhost:8080/",
          "height": 301
        }
      },
      "outputs": [
        {
          "output_type": "display_data",
          "data": {
            "text/plain": [
              "<Figure size 720x360 with 2 Axes>"
            ],
            "image/png": "[encoded data removed]"
          },
          "metadata": {}
        }
      ],
      "source": [
        "fig, axs = plt.subplots(1, 2, figsize=(10, 5))\n",
        "\n",
        "time_of_the_year1 = data['Fecha-I'].apply(lambda x: time_of_year(x.hour))\n",
        "axs[0].pie(time_of_the_year1.value_counts(), labels=list(time_of_the_year1.value_counts().keys()), labeldistance=1.2, autopct='%1.0f%%') \n",
        "\n",
        "time_of_the_year2 = data['Fecha-O'].apply(lambda x: time_of_year(x.hour))\n",
        "axs[1].pie(time_of_the_year2.value_counts(), labels=list(time_of_the_year1.value_counts().keys()), labeldistance=1.2, autopct='%1.0f%%') \n",
        "\n",
        "axs[0].set_title(\"Distribution of seasons for Fecha-I\")\n",
        "\n",
        "axs[1].set_title(\"Distribution of seasons for Fecha-O\")\n",
        "\n",
        "\n",
        "plt.show()\n"
      ]
    },
    {
      "cell_type": "code",
      "execution_count": 18,
      "metadata": {
        "id": "HpaTQ5yt1g45"
      },
      "outputs": [],
      "source": [
        "def time_of_day(hour):\n",
        "    if 5 <= hour < 12:\n",
        "        return 'morning'\n",
        "    elif 12 <= hour < 19:\n",
        "        return 'afternoon'\n",
        "    else:\n",
        "        return 'night'"
      ]
    },
    {
      "cell_type": "code",
      "execution_count": 19,
      "metadata": {
        "id": "EXSIAW421g45",
        "outputId": "66d49a7e-a165-4270-c34f-18feeb0f0442",
        "colab": {
          "base_uri": "https://localhost:8080/",
          "height": 301
        }
      },
      "outputs": [
        {
          "output_type": "execute_result",
          "data": {
            "text/plain": [
              "Text(0.5, 1.0, 'Distribution of hours for scheduled flights')"
            ]
          },
          "metadata": {},
          "execution_count": 19
        },
        {
          "output_type": "display_data",
          "data": {
            "text/plain": [
              "<Figure size 432x288 with 1 Axes>"
            ],
            "image/png": "[encoded data removed]"
          },
          "metadata": {
            "needs_background": "light"
          }
        }
      ],
      "source": [
        "time = data['Fecha-I'].apply(lambda x: x.hour)\n",
        "time.value_counts().plot(kind='bar')\n",
        "plt.title('Distribution of hours for scheduled flights')"
      ]
    },
    {
      "cell_type": "code",
      "execution_count": 20,
      "metadata": {
        "id": "yuqUDJI41g45",
        "outputId": "a503905c-3dcc-4790-8b52-e6decfa072af",
        "colab": {
          "base_uri": "https://localhost:8080/",
          "height": 301
        }
      },
      "outputs": [
        {
          "output_type": "display_data",
          "data": {
            "text/plain": [
              "<Figure size 720x360 with 2 Axes>"
            ],
            "image/png": "[encoded data removed]"
          },
          "metadata": {}
        }
      ],
      "source": [
        "fig, axs1 = plt.subplots(1, 2, figsize=(10, 5))\n",
        "\n",
        "time_of_the_day1 = data['Fecha-I'].apply(lambda x: time_of_day(x.hour))\n",
        "axs1[0].pie(time_of_the_day1.value_counts(), labels=list(time_of_the_day1.value_counts().keys()), labeldistance=1.2, autopct='%1.0f%%') \n",
        "\n",
        "time_of_the_day2 = data['Fecha-O'].apply(lambda x: time_of_day(x.hour))\n",
        "axs1[1].pie(time_of_the_day2.value_counts(), labels=list(time_of_the_day1.value_counts().keys()), labeldistance=1.2, autopct='%1.0f%%') \n",
        "\n",
        "axs1[0].set_title(\"Distribution of time of the day for Fecha-I\")\n",
        "\n",
        "axs1[1].set_title(\"Distribution of time of the day for Fecha-O\")\n",
        "\n",
        "\n",
        "plt.show()"
      ]
    },
    {
      "cell_type": "code",
      "execution_count": 21,
      "metadata": {
        "id": "6ejuK96m1g46",
        "outputId": "e02d71f2-39d2-4f6e-a617-af6494b53de6",
        "colab": {
          "base_uri": "https://localhost:8080/",
          "height": 248
        }
      },
      "outputs": [
        {
          "output_type": "display_data",
          "data": {
            "text/plain": [
              "<Figure size 432x288 with 1 Axes>"
            ],
            "image/png": "[encoded data removed]"
          },
          "metadata": {}
        }
      ],
      "source": [
        "time_of_the_week = data['DIANOM']\n",
        "frame1 = time_of_the_week.value_counts().plot(kind='pie', labels=list(time_of_the_week.value_counts().keys()), labeldistance=1.2, autopct='%1.0f%%')\n",
        "frame1.axes.get_yaxis().set_visible(False) "
      ]
    },
    {
      "cell_type": "markdown",
      "metadata": {
        "id": "fomv9jKQ1g46"
      },
      "source": [
        "<h5> Conclusion </h5>\n",
        "\n",
        "<ul>\n",
        "  <li>LAN is the most popular airline code for both scheduled and operated flights. Most of the scheduled flights had to be organized by airlines with codes LAN and SKU.\n",
        "In reality, operated flights were organized by airlines with codes LAN, LXP and SKU which leads to the conclusion that some part of the LAN flights was delayed and was organized by LXP or SKU (14549 flights were organized by LXP)  </li>\n",
        "  <li>The origin city code is SCEL for both scheduled and operated flights.</li>\n",
        "  <li>SCFA is the most popular destination city code for both scheduled and operated flights. For operated flights, SPJC and SCCF were also popular destinations.</li>\n",
        "  <li>Most of the flights were organized by Group LATAM.</li>\n",
        "  <li>Types of lights are evenly distributed.</li> \n",
        "<li>Origin of all flights is Santiago.</li> \n",
        "<li>Winter is the most popular season for flights.</li>\n",
        "<li>Time of the day is evenly distributed, though more flights happened either in the morning or in the afternoon.</li> \n",
        "<li>Quantity of flights is evenly distributed across all days of the week. Fewer flights happened on Saturday.</li> \n",
        "</ul>"
      ]
    },
    {
      "cell_type": "markdown",
      "metadata": {
        "id": "ABPZvgb01g46"
      },
      "source": [
        "<h3> Generate new columns </h3>"
      ]
    },
    {
      "cell_type": "code",
      "execution_count": 22,
      "metadata": {
        "id": "Mk61x9C91g47"
      },
      "outputs": [],
      "source": [
        "from datetime import date\n",
        "\n",
        "date1 = pd.to_datetime(date(2017, 12, 15))\n",
        "date2 = pd.to_datetime(date(2017, 3, 3))\n",
        "date3 = pd.to_datetime(date(2017, 7, 15))\n",
        "date4 = pd.to_datetime(date(2017, 7, 31))\n",
        "date5 = pd.to_datetime(date(2017, 9, 11))\n",
        "date6 = pd.to_datetime(date(2017, 9, 30))\n",
        "\n",
        "def is_high_season(date_input):\n",
        "    return (date1 <= date_input <= date2) or (date3 <= date_input <= date4) or (date5 <= date_input <= date6)"
      ]
    },
    {
      "cell_type": "code",
      "execution_count": 23,
      "metadata": {
        "id": "FkbSzu8l1g47"
      },
      "outputs": [],
      "source": [
        "data['high_season'] = data['Fecha-I'].apply(lambda x: is_high_season(pd.to_datetime(date(2017, x.month, x.day))))"
      ]
    },
    {
      "cell_type": "code",
      "execution_count": 24,
      "metadata": {
        "id": "zZxPg5ZJ1g47",
        "outputId": "76e34d96-8ab0-41b2-9fc4-9cfe25b808ec",
        "colab": {
          "base_uri": "https://localhost:8080/",
          "height": 298
        }
      },
      "outputs": [
        {
          "output_type": "execute_result",
          "data": {
            "text/plain": [
              "<matplotlib.axes._subplots.AxesSubplot at 0x7f04ea8a10d0>"
            ]
          },
          "metadata": {},
          "execution_count": 24
        },
        {
          "output_type": "display_data",
          "data": {
            "text/plain": [
              "<Figure size 432x288 with 1 Axes>"
            ],
            "image/png": "[encoded data removed]"
          },
          "metadata": {
            "needs_background": "light"
          }
        }
      ],
      "source": [
        "data['high_season'].value_counts().plot(kind='bar')"
      ]
    },
    {
      "cell_type": "code",
      "execution_count": 25,
      "metadata": {
        "id": "pwdzrNYv1g47"
      },
      "outputs": [],
      "source": [
        "def cpl_calc(x):\n",
        "    return pd.Timedelta(x[\"Fecha-O\"] - x[\"Fecha-I\"]).total_seconds() / 60\n",
        "\n",
        "data[\"min_diff\"] = data.apply(cpl_calc, axis=1)"
      ]
    },
    {
      "cell_type": "code",
      "execution_count": 26,
      "metadata": {
        "id": "m0vlIgFh1g48"
      },
      "outputs": [],
      "source": [
        "data[\"delay_15\"] = data[\"min_diff\"].apply(lambda x: x > 15)"
      ]
    },
    {
      "cell_type": "code",
      "execution_count": 27,
      "metadata": {
        "id": "dGj7gpy11g4_"
      },
      "outputs": [],
      "source": [
        "data[\"period_day\"] = data[\"Fecha-I\"].apply(lambda x: time_of_day(x.hour))"
      ]
    },
    {
      "cell_type": "code",
      "execution_count": 28,
      "metadata": {
        "id": "KYpzNe6T1g5A"
      },
      "outputs": [],
      "source": [
        "columns = [\"high_season\", \"min_diff\", \"delay_15\", \"period_day\"]\n",
        "\n",
        "data.to_csv(\"synthetic_features.csv\", columns=columns, index=False)"
      ]
    },
    {
      "cell_type": "markdown",
      "metadata": {
        "id": "AdyExwLE1g5A"
      },
      "source": [
        "<h4> Behavior of the delay rate </h4>"
      ]
    },
    {
      "cell_type": "code",
      "execution_count": 29,
      "metadata": {
        "id": "1HkjeWgM1g5A"
      },
      "outputs": [],
      "source": [
        "data = data.drop(data[data[\"min_diff\"] < 0].index)"
      ]
    },
    {
      "cell_type": "code",
      "execution_count": 30,
      "metadata": {
        "id": "J_TODuJ71g5B",
        "outputId": "5b406971-65cb-4ad3-d0ff-e0aa3fc86f81",
        "colab": {
          "base_uri": "https://localhost:8080/"
        }
      },
      "outputs": [
        {
          "output_type": "execute_result",
          "data": {
            "text/plain": [
              "161.0"
            ]
          },
          "metadata": {},
          "execution_count": 30
        }
      ],
      "source": [
        "max(data[\"min_diff\"])"
      ]
    },
    {
      "cell_type": "code",
      "execution_count": 31,
      "metadata": {
        "id": "TO7X4ljP1g5E",
        "outputId": "591bbec9-a671-45f1-d4bc-33c1e2e7eb15",
        "colab": {
          "base_uri": "https://localhost:8080/"
        }
      },
      "outputs": [
        {
          "output_type": "execute_result",
          "data": {
            "text/plain": [
              "0.0"
            ]
          },
          "metadata": {},
          "execution_count": 31
        }
      ],
      "source": [
        "min(data[\"min_diff\"])"
      ]
    },
    {
      "cell_type": "code",
      "execution_count": 32,
      "metadata": {
        "id": "PUCEg-9y1g5G",
        "outputId": "4ad99c8f-97e3-4c93-ba3e-a147e096283c",
        "colab": {
          "base_uri": "https://localhost:8080/"
        }
      },
      "outputs": [
        {
          "output_type": "execute_result",
          "data": {
            "text/plain": [
              "(4789, 22)"
            ]
          },
          "metadata": {},
          "execution_count": 32
        }
      ],
      "source": [
        "data[data[\"min_diff\"] == 0].shape"
      ]
    },
    {
      "cell_type": "code",
      "execution_count": 33,
      "metadata": {
        "id": "4dwjQdZk1g5H",
        "outputId": "b56c7eef-42db-482f-b1be-4267b2c13bdf",
        "colab": {
          "base_uri": "https://localhost:8080/"
        }
      },
      "outputs": [
        {
          "output_type": "execute_result",
          "data": {
            "text/plain": [
              "(50296, 22)"
            ]
          },
          "metadata": {},
          "execution_count": 33
        }
      ],
      "source": [
        "data.shape"
      ]
    },
    {
      "cell_type": "code",
      "execution_count": 34,
      "metadata": {
        "id": "eEINrTyU1g5I",
        "outputId": "2e602372-e9a5-4849-cfd0-a0171185e0c5",
        "colab": {
          "base_uri": "https://localhost:8080/"
        }
      },
      "outputs": [
        {
          "output_type": "execute_result",
          "data": {
            "text/plain": [
              "13.717909972960076"
            ]
          },
          "metadata": {},
          "execution_count": 34
        }
      ],
      "source": [
        "data['min_diff'].mean()"
      ]
    },
    {
      "cell_type": "code",
      "execution_count": 35,
      "metadata": {
        "id": "rOPLXzJy1g5I",
        "outputId": "cc57fb8e-792b-4975-919d-3e60458336c0",
        "colab": {
          "base_uri": "https://localhost:8080/",
          "height": 315
        }
      },
      "outputs": [
        {
          "output_type": "execute_result",
          "data": {
            "text/plain": [
              "<matplotlib.axes._subplots.AxesSubplot at 0x7f04eae5d5b0>"
            ]
          },
          "metadata": {},
          "execution_count": 35
        },
        {
          "output_type": "display_data",
          "data": {
            "text/plain": [
              "<Figure size 432x288 with 1 Axes>"
            ],
            "image/png": "[encoded data removed]"
          },
          "metadata": {
            "needs_background": "light"
          }
        }
      ],
      "source": [
        "bins = [-1, 0, 14, 40, 80, 120, 161]\n",
        "labels = ['(-1:0]','(0, 14]', '(14:40]', '(40:80]', '(80:120]', '(120:161]']\n",
        "data['diff_ranges'] = pd.cut(x = data[\"min_diff\"], bins = bins, labels = labels, include_lowest = True)\n",
        "data['diff_ranges'].value_counts()[:5].plot(kind='bar')"
      ]
    },
    {
      "cell_type": "code",
      "execution_count": 36,
      "metadata": {
        "id": "NJk7JPAF1g5I"
      },
      "outputs": [],
      "source": [
        "def is_delayed(range):\n",
        "    return range != '(-1:0]'"
      ]
    },
    {
      "cell_type": "code",
      "execution_count": 37,
      "metadata": {
        "id": "mC1y8FBW1g5J"
      },
      "outputs": [],
      "source": [
        "data['is_delayed'] = data['diff_ranges'].apply(lambda x: is_delayed(x))"
      ]
    },
    {
      "cell_type": "code",
      "execution_count": 38,
      "metadata": {
        "id": "x3tWRdwc1g5J",
        "outputId": "057764f9-b133-4e46-bcd3-0e700fc21105",
        "colab": {
          "base_uri": "https://localhost:8080/",
          "height": 442
        }
      },
      "outputs": [
        {
          "output_type": "display_data",
          "data": {
            "text/plain": [
              "<Figure size 720x504 with 1 Axes>"
            ],
            "image/png": "[encoded data removed]"
          },
          "metadata": {
            "needs_background": "light"
          }
        }
      ],
      "source": [
        "import seaborn as sns\n",
        "\n",
        "keys = list(data[\"SIGLADES\"].value_counts().keys()[:10])\n",
        "data_filtered = data[data['SIGLADES'].isin(keys)]\n",
        "\n",
        "fig = plt.figure(1, figsize=(10,7))\n",
        "ax = sns.countplot(y=\"SIGLADES\", hue='is_delayed', data=data_filtered)\n",
        "plt.show()"
      ]
    },
    {
      "cell_type": "code",
      "execution_count": 39,
      "metadata": {
        "id": "6ZX_-Qyn1g5J",
        "outputId": "3dce6f08-5ab4-4371-c71c-59bd3439fd3f",
        "colab": {
          "base_uri": "https://localhost:8080/",
          "height": 442
        }
      },
      "outputs": [
        {
          "output_type": "display_data",
          "data": {
            "text/plain": [
              "<Figure size 720x504 with 1 Axes>"
            ],
            "image/png": "[encoded data removed]"
          },
          "metadata": {
            "needs_background": "light"
          }
        }
      ],
      "source": [
        "import seaborn as sns\n",
        "\n",
        "keys = list(data[\"OPERA\"].value_counts().keys()[:8])\n",
        "data_filtered = data[data['OPERA'].isin(keys)]\n",
        "\n",
        "fig = plt.figure(1, figsize=(10,7))\n",
        "ax = sns.countplot(y=\"OPERA\", hue='diff_ranges', data=data_filtered)\n",
        "plt.show()"
      ]
    },
    {
      "cell_type": "code",
      "execution_count": 40,
      "metadata": {
        "id": "kMZz7I2Z1g5K",
        "outputId": "df94417a-f668-42eb-dfc3-03057c1bbd4c",
        "colab": {
          "base_uri": "https://localhost:8080/",
          "height": 442
        }
      },
      "outputs": [
        {
          "output_type": "display_data",
          "data": {
            "text/plain": [
              "<Figure size 720x504 with 1 Axes>"
            ],
            "image/png": "[encoded data removed]"
          },
          "metadata": {
            "needs_background": "light"
          }
        }
      ],
      "source": [
        "import seaborn as sns\n",
        "\n",
        "keys = list(data[\"MES\"].value_counts().keys())\n",
        "data_filtered = data[data['MES'].isin(keys)]\n",
        "\n",
        "fig = plt.figure(1, figsize=(10,7))\n",
        "ax = sns.countplot(y=\"MES\", hue='diff_ranges', data=data_filtered)\n",
        "plt.show()"
      ]
    },
    {
      "cell_type": "code",
      "execution_count": 41,
      "metadata": {
        "id": "v2kn5qUr1g5L",
        "outputId": "424603e1-08bc-4209-9625-2cd6e1f35eb4",
        "colab": {
          "base_uri": "https://localhost:8080/",
          "height": 442
        }
      },
      "outputs": [
        {
          "output_type": "display_data",
          "data": {
            "text/plain": [
              "<Figure size 720x504 with 1 Axes>"
            ],
            "image/png": "[encoded data removed]"
          },
          "metadata": {
            "needs_background": "light"
          }
        }
      ],
      "source": [
        "import seaborn as sns\n",
        "\n",
        "fig = plt.figure(1, figsize=(10,7))\n",
        "ax = sns.countplot(y=\"DIANOM\", hue='diff_ranges', data=data_filtered)\n",
        "plt.show()"
      ]
    },
    {
      "cell_type": "code",
      "execution_count": 42,
      "metadata": {
        "id": "pifK9JgK1g5L",
        "outputId": "eedafddd-e2ce-4c57-f6bd-48590e2ca375",
        "colab": {
          "base_uri": "https://localhost:8080/",
          "height": 442
        }
      },
      "outputs": [
        {
          "output_type": "display_data",
          "data": {
            "text/plain": [
              "<Figure size 720x504 with 1 Axes>"
            ],
            "image/png": "[encoded data removed]"
          },
          "metadata": {
            "needs_background": "light"
          }
        }
      ],
      "source": [
        "import seaborn as sns\n",
        "\n",
        "fig = plt.figure(1, figsize=(10,7))\n",
        "ax = sns.countplot(y=\"high_season\", hue='diff_ranges', data=data)\n",
        "plt.show()"
      ]
    },
    {
      "cell_type": "code",
      "execution_count": 43,
      "metadata": {
        "id": "WsifJjwH1g5M"
      },
      "outputs": [],
      "source": [
        "data['season'] = data['Fecha-I'].apply(lambda x: time_of_year(x.hour))"
      ]
    },
    {
      "cell_type": "code",
      "execution_count": 44,
      "metadata": {
        "id": "Ceu3Y1WY1g5M",
        "outputId": "d57a449b-b663-428f-ae45-d0e893263bb7",
        "colab": {
          "base_uri": "https://localhost:8080/",
          "height": 442
        }
      },
      "outputs": [
        {
          "output_type": "display_data",
          "data": {
            "text/plain": [
              "<Figure size 720x504 with 1 Axes>"
            ],
            "image/png": "[encoded data removed]"
          },
          "metadata": {
            "needs_background": "light"
          }
        }
      ],
      "source": [
        "import seaborn as sns\n",
        "\n",
        "fig = plt.figure(1, figsize=(10,7))\n",
        "ax = sns.countplot(y=\"season\", hue='diff_ranges', data=data)\n",
        "plt.show()"
      ]
    },
    {
      "cell_type": "code",
      "execution_count": 45,
      "metadata": {
        "id": "k6uXI2GK1g5N",
        "outputId": "cca967d3-4ad6-46b7-9802-2274065440c8",
        "colab": {
          "base_uri": "https://localhost:8080/",
          "height": 442
        }
      },
      "outputs": [
        {
          "output_type": "display_data",
          "data": {
            "text/plain": [
              "<Figure size 720x504 with 1 Axes>"
            ],
            "image/png": "[encoded data removed]"
          },
          "metadata": {
            "needs_background": "light"
          }
        }
      ],
      "source": [
        "import seaborn as sns\n",
        "\n",
        "keys= list(data[\"Des-I\"].value_counts().keys()[:8])\n",
        "data_filtered = data[data['Des-I'].isin(keys)]\n",
        "\n",
        "fig = plt.figure(1, figsize=(10,7))\n",
        "ax = sns.countplot(y=\"Des-I\", hue='diff_ranges', data=data_filtered)\n",
        "plt.show()"
      ]
    },
    {
      "cell_type": "code",
      "execution_count": 46,
      "metadata": {
        "id": "L113jqMS1g5N",
        "outputId": "c5bb9974-a0f4-4c44-d870-618704405c6d",
        "colab": {
          "base_uri": "https://localhost:8080/"
        }
      },
      "outputs": [
        {
          "output_type": "execute_result",
          "data": {
            "text/plain": [
              "12    5102\n",
              "7     4966\n",
              "10    4639\n",
              "11    4611\n",
              "1     4455\n",
              "8     4180\n",
              "9     4014\n",
              "2     4007\n",
              "5     3777\n",
              "6     3554\n",
              "3     3548\n",
              "4     3443\n",
              "Name: MES, dtype: int64"
            ]
          },
          "metadata": {},
          "execution_count": 46
        }
      ],
      "source": [
        "data[\"MES\"].value_counts()"
      ]
    },
    {
      "cell_type": "code",
      "execution_count": 47,
      "metadata": {
        "id": "ihwP4w-k1g5N",
        "outputId": "abbdb959-74a0-466c-fcd1-cb1c00f62988",
        "colab": {
          "base_uri": "https://localhost:8080/"
        }
      },
      "outputs": [
        {
          "output_type": "stream",
          "name": "stdout",
          "text": [
            "Delayed: 45507\n",
            "Not Delayed: 4789\n"
          ]
        }
      ],
      "source": [
        "print('Delayed:', data[data['is_delayed'] == True].shape[0])\n",
        "print('Not Delayed:', data[data['is_delayed'] == False].shape[0])"
      ]
    },
    {
      "cell_type": "markdown",
      "metadata": {
        "id": "u1SYBxp61g5O"
      },
      "source": [
        "<h4> First conclusion </h4>\n",
        "\n",
        "<p> Most of the flights happened in Winter, not in high season, by Grupo LATAM and the delay time lies in the range (0; 14]. We could assume that season influences the probability of the delay, but most of the not delayed flights also happened in Winter. \n",
        "  \n",
        "  The dataset is imbalanced, the ratio of not delayed flights is only 10%. The number of records is evenly distributed for each month which means that we are given enough information for the year. My conclusion is that flights that take off from SCL tend to be delayed.\n",
        "  \n",
        "  Also, quantity of not delayed flights seems to be proportional to quantity of delayed flights across all columns. Let's check if that's true.\n",
        "   </p>"
      ]
    },
    {
      "cell_type": "code",
      "execution_count": 66,
      "metadata": {
        "id": "d5VkPYWd1g5O"
      },
      "outputs": [],
      "source": [
        "def build_plot(param, type, constraint=None):\n",
        "    keys = []\n",
        "    if constraint != None:\n",
        "        keys = list(data[param].value_counts().keys()[:constraint])\n",
        "    else:\n",
        "        keys = list(data[param].value_counts().keys())\n",
        "    d1 = data[(data['is_delayed'] == False) & (data[param].isin(keys))][param].value_counts()\n",
        "    d2 = data[(data['is_delayed'] == True) & (data[param].isin(keys))][param].value_counts()\n",
        "\n",
        "    new_d2 = {i:0 for i in d1.keys()}\n",
        "    d2_dict = dict(d2)\n",
        "    for i in new_d2.keys():\n",
        "        new_d2[i] = d2_dict[i]\n",
        "\n",
        "    fig, (ax1, ax2) = plt.subplots(1, 2, figsize=(10, 5))\n",
        "\n",
        "    if type == 'line':\n",
        "        ax1.plot(list(d1.keys()), d1.values) \n",
        "\n",
        "        ax2.plot(list(new_d2.keys()), list(new_d2.values()))\n",
        "\n",
        "    elif type == 'bar':\n",
        "        ax1.bar(list(d1.keys()), d1.values) \n",
        "\n",
        "        ax2.bar(list(new_d2.keys()), list(new_d2.values()))\n",
        "\n",
        "    ax1.set_title(f'Distribution of {param} for not delayed flights')\n",
        "\n",
        "    ax2.set_title(f'Distribution of {param} for delayed flights')\n",
        "\n",
        "    ax1.set_xticklabels(list(d1.keys()), rotation=45)\n",
        "    ax2.set_xticklabels(list(new_d2.keys()), rotation=45)\n",
        "\n",
        "    plt.show()"
      ]
    },
    {
      "cell_type": "code",
      "execution_count": 67,
      "metadata": {
        "id": "B1umqN671g5P",
        "outputId": "c1a0246e-fa75-44e0-91a3-7c3cb73e7079",
        "colab": {
          "base_uri": "https://localhost:8080/",
          "height": 342
        }
      },
      "outputs": [
        {
          "output_type": "display_data",
          "data": {
            "text/plain": [
              "<Figure size 720x360 with 2 Axes>"
            ],
            "image/png": "[encoded data removed]"
          },
          "metadata": {
            "needs_background": "light"
          }
        }
      ],
      "source": [
        "build_plot('DIA', 'bar', 10)"
      ]
    },
    {
      "cell_type": "code",
      "execution_count": 68,
      "metadata": {
        "id": "iEok12051g5P",
        "outputId": "d2a78f80-3e69-48ed-f2a0-baf14abc7a1b",
        "colab": {
          "base_uri": "https://localhost:8080/",
          "height": 380
        }
      },
      "outputs": [
        {
          "output_type": "display_data",
          "data": {
            "text/plain": [
              "<Figure size 720x360 with 2 Axes>"
            ],
            "image/png": "[encoded data removed]"
          },
          "metadata": {
            "needs_background": "light"
          }
        }
      ],
      "source": [
        "build_plot('SIGLADES', 'line', 10)"
      ]
    },
    {
      "cell_type": "markdown",
      "metadata": {
        "id": "DDNqgUDz1g5Q"
      },
      "source": [
        "<p> From the above graphs we can see that the quantity of not-delayed flights for top-10 most popular destinations is not proportional to the quantity of delayed flights </p> "
      ]
    },
    {
      "cell_type": "code",
      "execution_count": 69,
      "metadata": {
        "id": "k1lUAW7V1g5Q",
        "outputId": "57896209-c73b-4c95-ec07-4c243c6e937e",
        "colab": {
          "base_uri": "https://localhost:8080/",
          "height": 342
        }
      },
      "outputs": [
        {
          "output_type": "display_data",
          "data": {
            "text/plain": [
              "<Figure size 720x360 with 2 Axes>"
            ],
            "image/png": "[encoded data removed]"
          },
          "metadata": {
            "needs_background": "light"
          }
        }
      ],
      "source": [
        "build_plot('MES', 'bar')"
      ]
    },
    {
      "cell_type": "code",
      "execution_count": 70,
      "metadata": {
        "id": "S5foTQs11g5Q",
        "outputId": "a7490947-ff30-4119-b4a1-d624027ac34d",
        "colab": {
          "base_uri": "https://localhost:8080/",
          "height": 363
        }
      },
      "outputs": [
        {
          "output_type": "display_data",
          "data": {
            "text/plain": [
              "<Figure size 720x360 with 2 Axes>"
            ],
            "image/png": "[encoded data removed]"
          },
          "metadata": {
            "needs_background": "light"
          }
        }
      ],
      "source": [
        "build_plot('season', 'line')"
      ]
    },
    {
      "cell_type": "code",
      "execution_count": 71,
      "metadata": {
        "id": "CnMGZtfe1g5R"
      },
      "outputs": [],
      "source": [
        "from scipy.stats import pearsonr\n",
        "\n",
        "def find_correlation(var1):\n",
        "    data1 = data[(data['is_delayed'] == False)][var1].value_counts()\n",
        "    data2 = data[(data['is_delayed'] == True)][var1].value_counts()\n",
        "\n",
        "    new_d2 = {i:0 for i in data1.keys()}\n",
        "    d2_dict = dict(data2)\n",
        "    for i in new_d2.keys():\n",
        "        if d2_dict.get(i) != None:\n",
        "            new_d2[i] = d2_dict[i]\n",
        "        else:\n",
        "            new_d2[i] = 0\n",
        "    x1 = np.array(data1.values)\n",
        "    x2 = np.array(list(new_d2.values()))\n",
        "    corr, _ = pearsonr(x1, x2)\n",
        "    return corr"
      ]
    },
    {
      "cell_type": "code",
      "execution_count": 72,
      "metadata": {
        "id": "StilfZBh1g5R"
      },
      "outputs": [],
      "source": [
        "cols = ['OPERA', 'SIGLADES', 'high_season', 'period_day', 'season', 'DIANOM', 'DIA', 'MES']"
      ]
    },
    {
      "cell_type": "markdown",
      "metadata": {
        "id": "x2rk5Txz1g5S"
      },
      "source": [
        "Correlation between quantities of delayed and not_delayed flights based on following params: OPERA, SIGLADDES, high_season, period_day,\n",
        "season, DIANOM, DIA, MES"
      ]
    },
    {
      "cell_type": "code",
      "execution_count": 73,
      "metadata": {
        "id": "8XXDCGFM1g5S",
        "outputId": "be373b2c-8077-439d-9b39-a12468f5f7a4",
        "colab": {
          "base_uri": "https://localhost:8080/"
        }
      },
      "outputs": [
        {
          "output_type": "stream",
          "name": "stdout",
          "text": [
            "OPERA : 0.9959938024433438\n",
            "SIGLADES : 0.9237844055822145\n",
            "high_season : 1.0\n",
            "period_day : 0.9557492689158298\n",
            "season : 0.9987107385683862\n",
            "DIANOM : 0.4195038677233166\n",
            "DIA : 0.4991306637288911\n",
            "MES : -0.42960148182610286\n"
          ]
        }
      ],
      "source": [
        "for param in cols:\n",
        "    print(param, ':', find_correlation(param))"
      ]
    },
    {
      "cell_type": "markdown",
      "metadata": {
        "id": "YAvCe-ha1g5T"
      },
      "source": [
        "<h4> Second conclusion </h4>\n",
        "\n",
        "<p> I would expect DIANOM, DIA, MES and SIGLADES have the most influence in predicting delays.\n",
        "</p>"
      ]
    },
    {
      "cell_type": "markdown",
      "metadata": {
        "id": "lVodqCEf1g5T"
      },
      "source": [
        "<h3> Building model </h3>"
      ]
    },
    {
      "cell_type": "code",
      "execution_count": 74,
      "metadata": {
        "id": "jgfibolK1g5T"
      },
      "outputs": [],
      "source": [
        "data['target'] = data['is_delayed'].apply(lambda x: int(x))"
      ]
    },
    {
      "cell_type": "code",
      "execution_count": 75,
      "metadata": {
        "id": "cvzxjcC81g5U"
      },
      "outputs": [],
      "source": [
        "selected_columns = data[['DIANOM', 'DIA', 'MES', 'SIGLADES']]"
      ]
    },
    {
      "cell_type": "code",
      "execution_count": 76,
      "metadata": {
        "id": "EP70Ljj51g5U",
        "outputId": "b3946ffd-1ce6-45e9-a7f4-a1f0b29030bc",
        "colab": {
          "base_uri": "https://localhost:8080/",
          "height": 424
        }
      },
      "outputs": [
        {
          "output_type": "execute_result",
          "data": {
            "text/plain": [
              "          DIANOM  DIA  MES SIGLADES\n",
              "0        Domingo    1    1    Miami\n",
              "1          Lunes    2    1    Miami\n",
              "2         Martes    3    1    Miami\n",
              "3      Miercoles    4    1    Miami\n",
              "5         Sabado    7    1    Miami\n",
              "...          ...  ...  ...      ...\n",
              "68201    Viernes   22   12     Lima\n",
              "68202      Lunes   25   12     Lima\n",
              "68203  Miercoles   27   12     Lima\n",
              "68204    Viernes   29   12     Lima\n",
              "68205    Domingo   31   12     Lima\n",
              "\n",
              "[50296 rows x 4 columns]"
            ],
            "text/html": [
              "\n",
              "  <div id=\"df-16483751-f2f5-48cc-ab64-625fe2ad89f2\">\n",
              "    <div class=\"colab-df-container\">\n",
              "      <div>\n",
              "<style scoped>\n",
              "    .dataframe tbody tr th:only-of-type {\n",
              "        vertical-align: middle;\n",
              "    }\n",
              "\n",
              "    .dataframe tbody tr th {\n",
              "        vertical-align: top;\n",
              "    }\n",
              "\n",
              "    .dataframe thead th {\n",
              "        text-align: right;\n",
              "    }\n",
              "</style>\n",
              "<table border=\"1\" class=\"dataframe\">\n",
              "  <thead>\n",
              "    <tr style=\"text-align: right;\">\n",
              "      <th></th>\n",
              "      <th>DIANOM</th>\n",
              "      <th>DIA</th>\n",
              "      <th>MES</th>\n",
              "      <th>SIGLADES</th>\n",
              "    </tr>\n",
              "  </thead>\n",
              "  <tbody>\n",
              "    <tr>\n",
              "      <th>0</th>\n",
              "      <td>Domingo</td>\n",
              "      <td>1</td>\n",
              "      <td>1</td>\n",
              "      <td>Miami</td>\n",
              "    </tr>\n",
              "    <tr>\n",
              "      <th>1</th>\n",
              "      <td>Lunes</td>\n",
              "      <td>2</td>\n",
              "      <td>1</td>\n",
              "      <td>Miami</td>\n",
              "    </tr>\n",
              "    <tr>\n",
              "      <th>2</th>\n",
              "      <td>Martes</td>\n",
              "      <td>3</td>\n",
              "      <td>1</td>\n",
              "      <td>Miami</td>\n",
              "    </tr>\n",
              "    <tr>\n",
              "      <th>3</th>\n",
              "      <td>Miercoles</td>\n",
              "      <td>4</td>\n",
              "      <td>1</td>\n",
              "      <td>Miami</td>\n",
              "    </tr>\n",
              "    <tr>\n",
              "      <th>5</th>\n",
              "      <td>Sabado</td>\n",
              "      <td>7</td>\n",
              "      <td>1</td>\n",
              "      <td>Miami</td>\n",
              "    </tr>\n",
              "    <tr>\n",
              "      <th>...</th>\n",
              "      <td>...</td>\n",
              "      <td>...</td>\n",
              "      <td>...</td>\n",
              "      <td>...</td>\n",
              "    </tr>\n",
              "    <tr>\n",
              "      <th>68201</th>\n",
              "      <td>Viernes</td>\n",
              "      <td>22</td>\n",
              "      <td>12</td>\n",
              "      <td>Lima</td>\n",
              "    </tr>\n",
              "    <tr>\n",
              "      <th>68202</th>\n",
              "      <td>Lunes</td>\n",
              "      <td>25</td>\n",
              "      <td>12</td>\n",
              "      <td>Lima</td>\n",
              "    </tr>\n",
              "    <tr>\n",
              "      <th>68203</th>\n",
              "      <td>Miercoles</td>\n",
              "      <td>27</td>\n",
              "      <td>12</td>\n",
              "      <td>Lima</td>\n",
              "    </tr>\n",
              "    <tr>\n",
              "      <th>68204</th>\n",
              "      <td>Viernes</td>\n",
              "      <td>29</td>\n",
              "      <td>12</td>\n",
              "      <td>Lima</td>\n",
              "    </tr>\n",
              "    <tr>\n",
              "      <th>68205</th>\n",
              "      <td>Domingo</td>\n",
              "      <td>31</td>\n",
              "      <td>12</td>\n",
              "      <td>Lima</td>\n",
              "    </tr>\n",
              "  </tbody>\n",
              "</table>\n",
              "<p>50296 rows × 4 columns</p>\n",
              "</div>\n",
              "      <button class=\"colab-df-convert\" onclick=\"convertToInteractive('df-16483751-f2f5-48cc-ab64-625fe2ad89f2')\"\n",
              "              title=\"Convert this dataframe to an interactive table.\"\n",
              "              style=\"display:none;\">\n",
              "        \n",
              "  <svg xmlns=\"http://www.w3.org/2000/svg\" height=\"24px\"viewBox=\"0 0 24 24\"\n",
              "       width=\"24px\">\n",
              "    <path d=\"M0 0h24v24H0V0z\" fill=\"none\"/>\n",
              "    <path d=\"M18.56 5.44l.94 2.06.94-2.06 2.06-.94-2.06-.94-.94-2.06-.94 2.06-2.06.94zm-11 1L8.5 8.5l.94-2.06 2.06-.94-2.06-.94L8.5 2.5l-.94 2.06-2.06.94zm10 10l.94 2.06.94-2.06 2.06-.94-2.06-.94-.94-2.06-.94 2.06-2.06.94z\"/><path d=\"M17.41 7.96l-1.37-1.37c-.4-.4-.92-.59-1.43-.59-.52 0-1.04.2-1.43.59L10.3 9.45l-7.72 7.72c-.78.78-.78 2.05 0 2.83L4 21.41c.39.39.9.59 1.41.59.51 0 1.02-.2 1.41-.59l7.78-7.78 2.81-2.81c.8-.78.8-2.07 0-2.86zM5.41 20L4 18.59l7.72-7.72 1.47 1.35L5.41 20z\"/>\n",
              "  </svg>\n",
              "      </button>\n",
              "      \n",
              "  <style>\n",
              "    .colab-df-container {\n",
              "      display:flex;\n",
              "      flex-wrap:wrap;\n",
              "      gap: 12px;\n",
              "    }\n",
              "\n",
              "    .colab-df-convert {\n",
              "      background-color: #E8F0FE;\n",
              "      border: none;\n",
              "      border-radius: 50%;\n",
              "      cursor: pointer;\n",
              "      display: none;\n",
              "      fill: #1967D2;\n",
              "      height: 32px;\n",
              "      padding: 0 0 0 0;\n",
              "      width: 32px;\n",
              "    }\n",
              "\n",
              "    .colab-df-convert:hover {\n",
              "      background-color: #E2EBFA;\n",
              "      box-shadow: 0px 1px 2px rgba(60, 64, 67, 0.3), 0px 1px 3px 1px rgba(60, 64, 67, 0.15);\n",
              "      fill: #174EA6;\n",
              "    }\n",
              "\n",
              "    [theme=dark] .colab-df-convert {\n",
              "      background-color: #3B4455;\n",
              "      fill: #D2E3FC;\n",
              "    }\n",
              "\n",
              "    [theme=dark] .colab-df-convert:hover {\n",
              "      background-color: #434B5C;\n",
              "      box-shadow: 0px 1px 3px 1px rgba(0, 0, 0, 0.15);\n",
              "      filter: drop-shadow(0px 1px 2px rgba(0, 0, 0, 0.3));\n",
              "      fill: #FFFFFF;\n",
              "    }\n",
              "  </style>\n",
              "\n",
              "      <script>\n",
              "        const buttonEl =\n",
              "          document.querySelector('#df-16483751-f2f5-48cc-ab64-625fe2ad89f2 button.colab-df-convert');\n",
              "        buttonEl.style.display =\n",
              "          google.colab.kernel.accessAllowed ? 'block' : 'none';\n",
              "\n",
              "        async function convertToInteractive(key) {\n",
              "          const element = document.querySelector('#df-16483751-f2f5-48cc-ab64-625fe2ad89f2');\n",
              "          const dataTable =\n",
              "            await google.colab.kernel.invokeFunction('convertToInteractive',\n",
              "                                                     [key], {});\n",
              "          if (!dataTable) return;\n",
              "\n",
              "          const docLinkHtml = 'Like what you see? Visit the ' +\n",
              "            '<a target=\"_blank\" href=https://colab.research.google.com/notebooks/data_table.ipynb>data table notebook</a>'\n",
              "            + ' to learn more about interactive tables.';\n",
              "          element.innerHTML = '';\n",
              "          dataTable['output_type'] = 'display_data';\n",
              "          await google.colab.output.renderOutput(dataTable, element);\n",
              "          const docLink = document.createElement('div');\n",
              "          docLink.innerHTML = docLinkHtml;\n",
              "          element.appendChild(docLink);\n",
              "        }\n",
              "      </script>\n",
              "    </div>\n",
              "  </div>\n",
              "  "
            ]
          },
          "metadata": {},
          "execution_count": 76
        }
      ],
      "source": [
        "selected_columns"
      ]
    },
    {
      "cell_type": "code",
      "execution_count": 78,
      "metadata": {
        "id": "b3jzURY61g5W"
      },
      "outputs": [],
      "source": [
        "features = list(selected_columns.to_dict(orient=\"index\").values())"
      ]
    },
    {
      "cell_type": "code",
      "execution_count": 79,
      "metadata": {
        "id": "re2Rae2B1g5W"
      },
      "outputs": [],
      "source": [
        "from sklearn.feature_extraction import DictVectorizer\n",
        "\n",
        "vec = DictVectorizer()"
      ]
    },
    {
      "cell_type": "code",
      "execution_count": 118,
      "metadata": {
        "id": "1-2U4k4z1g5W"
      },
      "outputs": [],
      "source": [
        "X = vec.fit_transform(features).toarray()\n",
        "y = np.array(data['target'] )"
      ]
    },
    {
      "cell_type": "code",
      "execution_count": 119,
      "metadata": {
        "id": "9GxTIbzS1g5X"
      },
      "outputs": [],
      "source": [
        "from imblearn.over_sampling import SMOTE\n",
        "smote = SMOTE(sampling_strategy=0.4)\n",
        "X, y = smote.fit_resample(X, y)"
      ]
    },
    {
      "cell_type": "code",
      "source": [
        "print(list(y).count(0))\n",
        "print(list(y).count(1))"
      ],
      "metadata": {
        "colab": {
          "base_uri": "https://localhost:8080/"
        },
        "id": "m9hc_Lh72k-3",
        "outputId": "99d0cccc-b385-408d-c645-04b755de9cb7"
      },
      "execution_count": 120,
      "outputs": [
        {
          "output_type": "stream",
          "name": "stdout",
          "text": [
            "18202\n",
            "45507\n"
          ]
        }
      ]
    },
    {
      "cell_type": "code",
      "execution_count": 121,
      "metadata": {
        "id": "L4jOFUyd1g5X"
      },
      "outputs": [],
      "source": [
        "from sklearn.model_selection import train_test_split\n",
        "X_train, X_test, y_train, y_test = train_test_split(X, y, test_size=0.33, random_state=42)"
      ]
    },
    {
      "cell_type": "code",
      "execution_count": 122,
      "metadata": {
        "colab": {
          "base_uri": "https://localhost:8080/"
        },
        "id": "NAjEoXfb1g5Y",
        "outputId": "1103d97d-db81-4285-8f9c-720cec9ff677"
      },
      "outputs": [
        {
          "output_type": "execute_result",
          "data": {
            "text/plain": [
              "30451"
            ]
          },
          "metadata": {},
          "execution_count": 122
        }
      ],
      "source": [
        "list(y_train).count(1)"
      ]
    },
    {
      "cell_type": "code",
      "execution_count": 123,
      "metadata": {
        "colab": {
          "base_uri": "https://localhost:8080/"
        },
        "id": "3SKefLhI1g5Y",
        "outputId": "d43b9021-64d1-4d36-f2af-f9c07453df18"
      },
      "outputs": [
        {
          "output_type": "execute_result",
          "data": {
            "text/plain": [
              "12234"
            ]
          },
          "metadata": {},
          "execution_count": 123
        }
      ],
      "source": [
        "list(y_train).count(0)"
      ]
    },
    {
      "cell_type": "code",
      "execution_count": 124,
      "metadata": {
        "colab": {
          "base_uri": "https://localhost:8080/"
        },
        "id": "CkkKrjQS1g5Y",
        "outputId": "1245589e-b193-43a1-ae39-55d9c66f93cc"
      },
      "outputs": [
        {
          "output_type": "stream",
          "name": "stderr",
          "text": [
            "/usr/local/lib/python3.8/dist-packages/sklearn/linear_model/_logistic.py:814: ConvergenceWarning: lbfgs failed to converge (status=1):\n",
            "STOP: TOTAL NO. of ITERATIONS REACHED LIMIT.\n",
            "\n",
            "Increase the number of iterations (max_iter) or scale the data as shown in:\n",
            "    https://scikit-learn.org/stable/modules/preprocessing.html\n",
            "Please also refer to the documentation for alternative solver options:\n",
            "    https://scikit-learn.org/stable/modules/linear_model.html#logistic-regression\n",
            "  n_iter_i = _check_optimize_result(\n"
          ]
        },
        {
          "output_type": "execute_result",
          "data": {
            "text/plain": [
              "0.63350122994026"
            ]
          },
          "metadata": {},
          "execution_count": 124
        }
      ],
      "source": [
        "from sklearn.ensemble import RandomForestClassifier\n",
        "from sklearn import svm\n",
        "from sklearn.linear_model import LogisticRegression\n",
        "\n",
        "clf = LogisticRegression(class_weight={0:2,1:1})\n",
        "clf.fit(X_train, y_train)\n",
        "clf.score(X_train, y_train)"
      ]
    },
    {
      "cell_type": "code",
      "execution_count": 125,
      "metadata": {
        "colab": {
          "base_uri": "https://localhost:8080/"
        },
        "id": "RW_WD06F1g5Z",
        "outputId": "fc10e6d3-22ff-4608-9220-859f6c595241"
      },
      "outputs": [
        {
          "output_type": "stream",
          "name": "stdout",
          "text": [
            "Accuracy of logistic regression classifier on test set: 0.63\n"
          ]
        }
      ],
      "source": [
        "y_pred = clf.predict(X_test)\n",
        "print('Accuracy of logistic regression classifier on test set: {:.2f}'.format(clf.score(X_test, y_test)))"
      ]
    },
    {
      "cell_type": "code",
      "execution_count": 126,
      "metadata": {
        "colab": {
          "base_uri": "https://localhost:8080/"
        },
        "id": "2qxN-nD01g5Z",
        "outputId": "2e573e83-fa34-4e14-aa78-6b5e967af4a7"
      },
      "outputs": [
        {
          "output_type": "stream",
          "name": "stdout",
          "text": [
            "[[ 2329  3639]\n",
            " [ 4136 10920]]\n"
          ]
        }
      ],
      "source": [
        "from sklearn.metrics import confusion_matrix\n",
        "confusion_matrix = confusion_matrix(y_test, y_pred)\n",
        "print(confusion_matrix)"
      ]
    },
    {
      "cell_type": "code",
      "execution_count": 127,
      "metadata": {
        "colab": {
          "base_uri": "https://localhost:8080/"
        },
        "id": "lUVsZTbU1g5a",
        "outputId": "0af259f7-ec07-41bf-e796-bb518a7e3e5b"
      },
      "outputs": [
        {
          "output_type": "stream",
          "name": "stdout",
          "text": [
            "              precision    recall  f1-score   support\n",
            "\n",
            "           0       0.36      0.39      0.37      5968\n",
            "           1       0.75      0.73      0.74     15056\n",
            "\n",
            "    accuracy                           0.63     21024\n",
            "   macro avg       0.56      0.56      0.56     21024\n",
            "weighted avg       0.64      0.63      0.63     21024\n",
            "\n"
          ]
        }
      ],
      "source": [
        "from sklearn.metrics import classification_report\n",
        "print(classification_report(y_test, y_pred))"
      ]
    },
    {
      "cell_type": "code",
      "source": [
        "from sklearn.ensemble import RandomForestClassifier\n",
        "from sklearn.tree import DecisionTreeClassifier\n",
        "from sklearn import svm\n",
        "from sklearn.linear_model import LogisticRegression\n",
        "\n",
        "model_decision_tree = DecisionTreeClassifier(max_depth=40, class_weight={0:2,1:1})\n",
        "model_decision_tree.fit(X_train, y_train)\n",
        "model_decision_tree.score(X_train, y_train)"
      ],
      "metadata": {
        "colab": {
          "base_uri": "https://localhost:8080/"
        },
        "id": "vKRXNoCAhcOo",
        "outputId": "7c2980a8-db65-4c9c-df2f-af851f7337bc"
      },
      "execution_count": 138,
      "outputs": [
        {
          "output_type": "execute_result",
          "data": {
            "text/plain": [
              "0.9011830853929952"
            ]
          },
          "metadata": {},
          "execution_count": 138
        }
      ]
    },
    {
      "cell_type": "code",
      "source": [
        "y_pred = model_decision_tree.predict(X_test)\n",
        "print('Accuracy of decision tree classifier on test set: {:.2f}'.format(model_decision_tree.score(X_test, y_test)))"
      ],
      "metadata": {
        "colab": {
          "base_uri": "https://localhost:8080/"
        },
        "id": "sReTV2X2hfgR",
        "outputId": "2f3f23a7-b54c-4fa1-f1b0-694683ddd414"
      },
      "execution_count": 139,
      "outputs": [
        {
          "output_type": "stream",
          "name": "stdout",
          "text": [
            "Accuracy of decision tree classifier on test set: 0.84\n"
          ]
        }
      ]
    },
    {
      "cell_type": "code",
      "source": [
        "from sklearn.metrics import confusion_matrix\n",
        "confusion_matrix = confusion_matrix(y_test, y_pred)\n",
        "print(confusion_matrix)"
      ],
      "metadata": {
        "colab": {
          "base_uri": "https://localhost:8080/"
        },
        "id": "XlAJ4TiNhhT0",
        "outputId": "87b00eb0-bb7e-4c09-e4a7-8fdd3268ccd0"
      },
      "execution_count": 140,
      "outputs": [
        {
          "output_type": "stream",
          "name": "stdout",
          "text": [
            "[[ 4597  1371]\n",
            " [ 1898 13158]]\n"
          ]
        }
      ]
    },
    {
      "cell_type": "code",
      "source": [
        "from sklearn.metrics import classification_report\n",
        "print(classification_report(y_test, y_pred))"
      ],
      "metadata": {
        "colab": {
          "base_uri": "https://localhost:8080/"
        },
        "id": "LCv1OiCUhliS",
        "outputId": "f66b7a41-3499-439a-853c-10fde89b9034"
      },
      "execution_count": 142,
      "outputs": [
        {
          "output_type": "stream",
          "name": "stdout",
          "text": [
            "              precision    recall  f1-score   support\n",
            "\n",
            "           0       0.71      0.77      0.74      5968\n",
            "           1       0.91      0.87      0.89     15056\n",
            "\n",
            "    accuracy                           0.84     21024\n",
            "   macro avg       0.81      0.82      0.81     21024\n",
            "weighted avg       0.85      0.84      0.85     21024\n",
            "\n"
          ]
        }
      ]
    },
    {
      "cell_type": "markdown",
      "source": [
        "<h3> Conclusion </h3>\n",
        "\n",
        "<h4> Choice of models </h4>\n",
        "<p> LogisticRegression and DecisionTree are suitable for binary classification problems. The dataset is imbalanced, so it was necessary 1) to adjust class weights so the model would get more penalty for incorrect prediction for minority class, 2) use SMOTE to generate examples of minority class to balance dataset. </p>\n",
        "\n",
        "<h4> Evaluation metrics </h4>\n",
        "<p> Confusion matrix can be useful because we can see how many negative records were incorrectly classified. The accuracy was also found, but recall, precision and F1-score can provide more meaningful insights into the performance of a model than accuracy, which can be misleading because it only takes into account the total number of correct predictions made by the model.</p>"
      ],
      "metadata": {
        "id": "-J00Do7dhsaG"
      }
    },
    {
      "cell_type": "markdown",
      "source": [
        "<h3> What variables were the most influential in the prediction task? </h3>"
      ],
      "metadata": {
        "id": "_Kbgo4t_qc9C"
      }
    },
    {
      "cell_type": "code",
      "source": [
        "from graphviz import Source\n",
        "from sklearn import tree\n",
        "\n",
        "dot_data = tree.export_graphviz(model_decision_tree, out_file=None)\n",
        "graph = Source(dot_data)\n",
        "\n",
        "graph.render(\"flights\")"
      ],
      "metadata": {
        "colab": {
          "base_uri": "https://localhost:8080/",
          "height": 36
        },
        "id": "OPKzK6w5r7Y3",
        "outputId": "2c5f78be-1766-4157-88ff-7301a0769334"
      },
      "execution_count": 145,
      "outputs": [
        {
          "output_type": "execute_result",
          "data": {
            "text/plain": [
              "'flights.pdf'"
            ],
            "application/vnd.google.colaboratory.intrinsic+json": {
              "type": "string"
            }
          },
          "metadata": {},
          "execution_count": 145
        }
      ]
    },
    {
      "cell_type": "code",
      "source": [
        "X.shape"
      ],
      "metadata": {
        "colab": {
          "base_uri": "https://localhost:8080/"
        },
        "id": "uZHbrDEtu9Wn",
        "outputId": "5869c6e5-1c83-4667-c110-91a8ac1dd284"
      },
      "execution_count": 149,
      "outputs": [
        {
          "output_type": "execute_result",
          "data": {
            "text/plain": [
              "(63709, 71)"
            ]
          },
          "metadata": {},
          "execution_count": 149
        }
      ]
    },
    {
      "cell_type": "markdown",
      "source": [
        "<p> We can visualize decision tree and see which features are the most influential. The tree will typically show the most important variables at the top, with the other variables branching off from them. \n",
        "\n",
        "In the resulted visualization (which is stored in flights.pdf) we can see that the next features are at the top of the tree: X[17], X[5], X[0], X[7] "
      ],
      "metadata": {
        "id": "-2QsUqDDs4XD"
      }
    },
    {
      "cell_type": "code",
      "source": [
        "some_important_features_indexes = [17, 5, 0, 7]\n",
        "\n",
        "for i in some_important_features_indexes:\n",
        "  print(vec.feature_names_[i])"
      ],
      "metadata": {
        "colab": {
          "base_uri": "https://localhost:8080/"
        },
        "id": "i7hiWzUmvTr3",
        "outputId": "046f23dc-91f1-4b7c-bc54-afc168a8afdf"
      },
      "execution_count": 152,
      "outputs": [
        {
          "output_type": "stream",
          "name": "stdout",
          "text": [
            "SIGLADES=Buenos Aires\n",
            "DIANOM=Miercoles\n",
            "DIA\n",
            "DIANOM=Viernes\n"
          ]
        }
      ]
    },
    {
      "cell_type": "markdown",
      "source": [
        "<h3> How could the performance be improved? </h3>\n",
        "\n",
        "<p> We could try other algorithms like support vector machine that is also suitable for imbalanced dataset. Additionally, we could try using other techniques to handle the imbalanced data, such as downsampling the majority class or using a cost-sensitive learning algorithm.</p>"
      ],
      "metadata": {
        "id": "bmdJhSsdwRaf"
      }
    }
  ],
  "metadata": {
    "kernelspec": {
      "display_name": "Python 3.9.2 64-bit",
      "language": "python",
      "name": "python3"
    },
    "language_info": {
      "codemirror_mode": {
        "name": "ipython",
        "version": 3
      },
      "file_extension": ".py",
      "mimetype": "text/x-python",
      "name": "python",
      "nbconvert_exporter": "python",
      "pygments_lexer": "ipython3",
      "version": "3.9.2"
    },
    "orig_nbformat": 4,
    "vscode": {
      "interpreter": {
        "hash": "91e1a9e4a06db3fded7ac69e2bfb6fa7fbfde494fec706270786ebdcaf742302"
      }
    },
    "colab": {
      "provenance": []
    }
  },
  "nbformat": 4,
  "nbformat_minor": 0
}